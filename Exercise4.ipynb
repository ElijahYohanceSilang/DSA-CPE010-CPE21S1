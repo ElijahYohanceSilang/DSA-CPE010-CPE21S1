{
  "nbformat": 4,
  "nbformat_minor": 0,
  "metadata": {
    "colab": {
      "provenance": [],
      "authorship_tag": "ABX9TyPfktnp32O/J73cMutyg/+l",
      "include_colab_link": true
    },
    "kernelspec": {
      "name": "python3",
      "display_name": "Python 3"
    },
    "language_info": {
      "name": "python"
    }
  },
  "cells": [
    {
      "cell_type": "markdown",
      "metadata": {
        "id": "view-in-github",
        "colab_type": "text"
      },
      "source": [
        "<a href=\"https://colab.research.google.com/github/ElijahYohanceSilang/DSA-CPE010-CPE21S1/blob/main/Exercise4.ipynb\" target=\"_parent\"><img src=\"https://colab.research.google.com/assets/colab-badge.svg\" alt=\"Open In Colab\"/></a>"
      ]
    },
    {
      "cell_type": "code",
      "execution_count": 10,
      "metadata": {
        "colab": {
          "base_uri": "https://localhost:8080/"
        },
        "id": "J3k_OC5D2loQ",
        "outputId": "3cb8cb70-fa6c-4263-ee26-de145fba40b7"
      },
      "outputs": [
        {
          "output_type": "stream",
          "name": "stdout",
          "text": [
            "der\n",
            "neerg\n",
            "eulb\n",
            "wolley\n"
          ]
        }
      ],
      "source": [
        "color = ['red','green','blue','yellow']\n",
        "for reversed_color in color:\n",
        "  print(reversed_color[::-1])"
      ]
    }
  ]
}
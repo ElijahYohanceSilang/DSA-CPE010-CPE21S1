{
  "nbformat": 4,
  "nbformat_minor": 0,
  "metadata": {
    "colab": {
      "provenance": [],
      "authorship_tag": "ABX9TyO7NekAklur6vKQxItTdW2i",
      "include_colab_link": true
    },
    "kernelspec": {
      "name": "python3",
      "display_name": "Python 3"
    },
    "language_info": {
      "name": "python"
    }
  },
  "cells": [
    {
      "cell_type": "markdown",
      "metadata": {
        "id": "view-in-github",
        "colab_type": "text"
      },
      "source": [
        "<a href=\"https://colab.research.google.com/github/ElijahYohanceSilang/DSA-CPE010-CPE21S1/blob/main/Exercise3.ipynb\" target=\"_parent\"><img src=\"https://colab.research.google.com/assets/colab-badge.svg\" alt=\"Open In Colab\"/></a>"
      ]
    },
    {
      "cell_type": "code",
      "execution_count": 15,
      "metadata": {
        "colab": {
          "base_uri": "https://localhost:8080/"
        },
        "id": "5qmKEYI6we4z",
        "outputId": "3218754d-ed9f-437b-f270-f785ad86d78a"
      },
      "outputs": [
        {
          "output_type": "stream",
          "name": "stdout",
          "text": [
            "bird strong\n",
            "bird lazy\n",
            "bird big\n",
            "cat strong\n",
            "cat lazy\n",
            "cat big\n",
            "dog strong\n",
            "dog lazy\n",
            "dog big\n"
          ]
        }
      ],
      "source": [
        "animals = [\"dog\", \"cat\", \"bird\"]\n",
        "adjectives = [\"big\", \"lazy\", \"strong\"]\n",
        "\n",
        "animals.reverse()\n",
        "adjectives.reverse()\n",
        "\n",
        "for animal in animals:\n",
        "    for adjective in adjectives:\n",
        "        print(animal, adjective)"
      ]
    }
  ]
}
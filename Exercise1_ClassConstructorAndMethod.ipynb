{
  "nbformat": 4,
  "nbformat_minor": 0,
  "metadata": {
    "colab": {
      "provenance": [],
      "authorship_tag": "ABX9TyOyaAKK3bDm9/rm3fvuCg/4",
      "include_colab_link": true
    },
    "kernelspec": {
      "name": "python3",
      "display_name": "Python 3"
    },
    "language_info": {
      "name": "python"
    }
  },
  "cells": [
    {
      "cell_type": "markdown",
      "metadata": {
        "id": "view-in-github",
        "colab_type": "text"
      },
      "source": [
        "<a href=\"https://colab.research.google.com/github/ElijahYohanceSilang/DSA-CPE010-CPE21S1/blob/main/Exercise1_ClassConstructorAndMethod.ipynb\" target=\"_parent\"><img src=\"https://colab.research.google.com/assets/colab-badge.svg\" alt=\"Open In Colab\"/></a>"
      ]
    },
    {
      "cell_type": "code",
      "execution_count": 10,
      "metadata": {
        "colab": {
          "base_uri": "https://localhost:8080/"
        },
        "id": "5f8SXDhMJT7h",
        "outputId": "8c32b4e8-10ba-48f8-b3aa-2b9a1afd85e6"
      },
      "outputs": [
        {
          "output_type": "stream",
          "name": "stdout",
          "text": [
            "Length (cm): 80\n",
            "Width (cm): 40\n",
            "The area of the Rectangle is  3200.0 cm\n"
          ]
        }
      ],
      "source": [
        "class Rectangle:\n",
        "  def __init__(self, length=None, width=None):\n",
        "      self.length = length\n",
        "      self.width = width\n",
        "\n",
        "  def get_user_input(self):\n",
        "      self.length = float(input(\"Length (cm): \"))\n",
        "      self.width = float(input(\"Width (cm): \"))\n",
        "\n",
        "  def compute_area(self):\n",
        "      return self.length * self.width\n",
        "\n",
        "rect = Rectangle()\n",
        "rect.get_user_input()\n",
        "area = rect.compute_area()\n",
        "\n",
        "print(\"The area of the Rectangle is \", area,\"cm\")\n"
      ]
    }
  ]
}
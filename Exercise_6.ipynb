{
  "nbformat": 4,
  "nbformat_minor": 0,
  "metadata": {
    "colab": {
      "provenance": [],
      "authorship_tag": "ABX9TyNwIeNxmFwMN1esx7fjBOd9",
      "include_colab_link": true
    },
    "kernelspec": {
      "name": "python3",
      "display_name": "Python 3"
    },
    "language_info": {
      "name": "python"
    }
  },
  "cells": [
    {
      "cell_type": "markdown",
      "metadata": {
        "id": "view-in-github",
        "colab_type": "text"
      },
      "source": [
        "<a href=\"https://colab.research.google.com/github/ElijahYohanceSilang/DSA-CPE010-CPE21S1/blob/main/Exercise_6.ipynb\" target=\"_parent\"><img src=\"https://colab.research.google.com/assets/colab-badge.svg\" alt=\"Open In Colab\"/></a>"
      ]
    },
    {
      "cell_type": "markdown",
      "source": [
        "# **Stack**"
      ],
      "metadata": {
        "id": "yi5d_CSEZ8E8"
      }
    },
    {
      "cell_type": "code",
      "execution_count": null,
      "metadata": {
        "id": "QF2pwjBxPKP7"
      },
      "outputs": [],
      "source": [
        "#include <iostream>\n",
        "#include <stack>\n",
        "using namespace std;\n",
        "\n",
        "void display(stack<string>pl);\n",
        "int main()\n",
        "{\n",
        "  stack<string>pl;\n",
        "  pl.push(\"C++\");\n",
        "  pl.push(\"Java\");\n",
        "  pl.push(\"Python\");\n",
        "  cout << \"Initial stack: \"; display(pl);\n",
        "\n",
        "  pl.pop();\n",
        "  pl.pop();\n",
        "\n",
        "  cout << \"In \" << \"Final stack: \"; display(pl);\n",
        "  return 0;\n",
        "}\n",
        "\n",
        "void display(stack<string>pl)\n",
        "{\n",
        "  while(!pl.empty())\n",
        "  {\n",
        "    cout << pl.top() << \" \";\n",
        "    pl.pop();\n",
        "  }\n",
        "}"
      ]
    },
    {
      "cell_type": "markdown",
      "source": [
        "# **Queue**"
      ],
      "metadata": {
        "id": "sBCHnMg2aEEC"
      }
    },
    {
      "cell_type": "code",
      "source": [
        "#include <iostream>\n",
        "#include <stack>\n",
        "using namespace std;\n",
        "\n",
        "void display(queue);\n",
        "int main()\n",
        "{\n",
        "  queue;\n",
        "  pl.push(\"C++\");\n",
        "  pl.push(\"Java\");\n",
        "  pl.push(\"Python\");\n",
        "  cout << \"Initial queue: \"; display(pl);\n",
        "\n",
        "  pl.pop();\n",
        "  pl.pop();\n",
        "\n",
        "  cout << \"In \" << \"Final queue: \"; display(pl);\n",
        "  return 0;\n",
        "}\n",
        "\n",
        "void display(queue)\n",
        "{\n",
        "  while(!pl.empty())\n",
        "  {\n",
        "    cout << pl.top() << \" \";\n",
        "    pl.pop();\n",
        "  }\n",
        "}"
      ],
      "metadata": {
        "id": "GGgMk7buaHWd"
      },
      "execution_count": null,
      "outputs": []
    }
  ]
}
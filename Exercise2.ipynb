{
  "nbformat": 4,
  "nbformat_minor": 0,
  "metadata": {
    "colab": {
      "provenance": [],
      "authorship_tag": "ABX9TyNRY/17Q1oWWywr4VAD4vpS",
      "include_colab_link": true
    },
    "kernelspec": {
      "name": "python3",
      "display_name": "Python 3"
    },
    "language_info": {
      "name": "python"
    }
  },
  "cells": [
    {
      "cell_type": "markdown",
      "metadata": {
        "id": "view-in-github",
        "colab_type": "text"
      },
      "source": [
        "<a href=\"https://colab.research.google.com/github/ElijahYohanceSilang/DSA-CPE010-CPE21S1/blob/main/Exercise2.ipynb\" target=\"_parent\"><img src=\"https://colab.research.google.com/assets/colab-badge.svg\" alt=\"Open In Colab\"/></a>"
      ]
    },
    {
      "cell_type": "code",
      "execution_count": 27,
      "metadata": {
        "colab": {
          "base_uri": "https://localhost:8080/"
        },
        "id": "r-NecJo0OAWH",
        "outputId": "439c79c8-0555-4533-a9c6-dd5dcac46cb8"
      },
      "outputs": [
        {
          "output_type": "stream",
          "name": "stdout",
          "text": [
            "Enter Length: 3\n",
            "Enter Width: 4\n",
            "Rectangle Area: 12.0\n",
            "Enter Base: 5\n",
            "Enter Height: 6\n",
            "Triangle Area: 15.0\n",
            "Enter Side: 6\n",
            "Square Area: 36.0\n"
          ]
        }
      ],
      "source": [
        "class Shapes:\n",
        "  pass\n",
        "\n",
        "class Rectangle(Shapes):\n",
        "  def __init__(self, length, width):\n",
        "      self.length = length\n",
        "      self.width = width\n",
        "\n",
        "  def Area(self):\n",
        "      return self.length * self.width\n",
        "\n",
        "class Triangle(Shapes):\n",
        "  def __init__(self, base, height):\n",
        "      self.base = base\n",
        "      self.height = height\n",
        "\n",
        "  def Area(self):\n",
        "      return 0.5 * self.base * self.height\n",
        "\n",
        "class Square(Shapes):\n",
        "  def __init__(self, side):\n",
        "      self.side = side\n",
        "\n",
        "  def Area(self):\n",
        "      return self.side ** 2\n",
        "\n",
        "length = float(input(\"Enter Length: \"))\n",
        "width = float(input(\"Enter Width: \"))\n",
        "rectangle = Rectangle(length, width)\n",
        "print(\"Rectangle Area:\", rectangle.Area())\n",
        "\n",
        "base = float(input(\"Enter Base: \"))\n",
        "height = float(input(\"Enter Height: \"))\n",
        "triangle = Triangle(base, height)\n",
        "print(\"Triangle Area:\", triangle.Area())\n",
        "\n",
        "side = float(input(\"Enter Side: \"))\n",
        "square = Square(side)\n",
        "print(\"Square Area:\", square.Area())"
      ]
    }
  ]
}
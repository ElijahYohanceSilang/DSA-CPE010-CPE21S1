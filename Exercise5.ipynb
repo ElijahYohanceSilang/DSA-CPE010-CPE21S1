{
  "nbformat": 4,
  "nbformat_minor": 0,
  "metadata": {
    "colab": {
      "provenance": [],
      "authorship_tag": "ABX9TyO5+QY7upda7I++Sd0AUBpM",
      "include_colab_link": true
    },
    "kernelspec": {
      "name": "python3",
      "display_name": "Python 3"
    },
    "language_info": {
      "name": "python"
    }
  },
  "cells": [
    {
      "cell_type": "markdown",
      "metadata": {
        "id": "view-in-github",
        "colab_type": "text"
      },
      "source": [
        "<a href=\"https://colab.research.google.com/github/ElijahYohanceSilang/DSA-CPE010-CPE21S1/blob/main/Exercise5.ipynb\" target=\"_parent\"><img src=\"https://colab.research.google.com/assets/colab-badge.svg\" alt=\"Open In Colab\"/></a>"
      ]
    },
    {
      "cell_type": "markdown",
      "source": [
        "Example 1"
      ],
      "metadata": {
        "id": "cJMK5HgKcuuf"
      }
    },
    {
      "cell_type": "code",
      "execution_count": 1,
      "metadata": {
        "colab": {
          "base_uri": "https://localhost:8080/",
          "height": 35
        },
        "id": "-ocRJ-ofbPxn",
        "outputId": "4b342085-a3c6-48da-a1ce-92d09f87692b"
      },
      "outputs": [
        {
          "output_type": "execute_result",
          "data": {
            "text/plain": [
              "'f'"
            ],
            "application/vnd.google.colaboratory.intrinsic+json": {
              "type": "string"
            }
          },
          "metadata": {},
          "execution_count": 1
        }
      ],
      "source": [
        "import array\n",
        "array.typecodes #get all typecodes\n",
        "a = array.array('i',[1,2,3,4,5,6]) #initializing array a\n",
        "b = array.array('f',[1,5,2,5,3,5,4,5,5,5,6,5]) #initializing array a\n",
        "a.typecode #getting the typecode of a\n",
        "b.typecode #getting the typecode of b"
      ]
    },
    {
      "cell_type": "markdown",
      "source": [
        "Example 2"
      ],
      "metadata": {
        "id": "IOTv2uZkc8M_"
      }
    },
    {
      "cell_type": "code",
      "source": [
        "import array\n",
        "array.typecodes #get all typecodes\n",
        "a = array.array('i',[1,2,3,4,5,6]) #initializing array a\n",
        "b = array.array('f',[1,5,2,5,3,5,4,5,5,5,6,5]) #initializing array a\n",
        "a.typecode #getting the typecode of a\n",
        "b.typecode #getting the typecode of b"
      ],
      "metadata": {
        "colab": {
          "base_uri": "https://localhost:8080/",
          "height": 35
        },
        "id": "kPEpkdaDc9pn",
        "outputId": "485ad23e-afa6-4745-c3af-879e348a4292"
      },
      "execution_count": 3,
      "outputs": [
        {
          "output_type": "execute_result",
          "data": {
            "text/plain": [
              "'f'"
            ],
            "application/vnd.google.colaboratory.intrinsic+json": {
              "type": "string"
            }
          },
          "metadata": {},
          "execution_count": 3
        }
      ]
    },
    {
      "cell_type": "code",
      "source": [
        "from array import array #importing array from array mobile\n",
        "a = array('i',[4,5,6,7]) #initializing array\n",
        "a.insert(1,2) #inserting 2 at index 1\n",
        "a #printing array\n",
        "array('i',[4,2,5,6,7])\n",
        "a.insert(-1,0) #inserting 3 at index 2\n",
        "a #printing array\n",
        "array('i',[4,2,5,6,0,7,-1])"
      ],
      "metadata": {
        "colab": {
          "base_uri": "https://localhost:8080/"
        },
        "id": "R7XBJFgTdQjH",
        "outputId": "0a4564b4-635b-46ff-9197-e4f4fd7d475e"
      },
      "execution_count": 2,
      "outputs": [
        {
          "output_type": "execute_result",
          "data": {
            "text/plain": [
              "array('i', [4, 2, 5, 6, 0, 7, -1])"
            ]
          },
          "metadata": {},
          "execution_count": 2
        }
      ]
    },
    {
      "cell_type": "markdown",
      "source": [
        "Example 3"
      ],
      "metadata": {
        "id": "34qsFtaGej-P"
      }
    },
    {
      "cell_type": "code",
      "source": [
        "# Node class\n",
        "class Node:\n",
        "\n",
        "  #Function to initialize the node object\n",
        "  def __init__(self,data):\n",
        "    self.data = data # Assign data\n",
        "    self.next = None # Initialize next as null\n",
        "\n",
        "# Linked List class\n",
        "class LinkedList:\n",
        "\n",
        "  # Function to initialize the Linked\n",
        "  # List object\n",
        "  def __init__(self):\n",
        "    self.head = None"
      ],
      "metadata": {
        "id": "XzKDQLx0emC3"
      },
      "execution_count": null,
      "outputs": []
    },
    {
      "cell_type": "markdown",
      "source": [
        "Example 4 (combined with Example 3)"
      ],
      "metadata": {
        "id": "y_3W6zSyh1vo"
      }
    },
    {
      "cell_type": "code",
      "source": [
        "# A simple Python program to introduce a linked list\n",
        "\n",
        "# Node class\n",
        "class Node:\n",
        "\n",
        "  #Function to initialize the node object\n",
        "  def __init__(self,data):\n",
        "    self.data = data # Assign data\n",
        "    self.next = None # Initialize next as null\n",
        "\n",
        "# Linked List class\n",
        "class LinkedList:\n",
        "\n",
        "  #Funtion to initialize head\n",
        "  #List object\n",
        "  def __init__(self):\n",
        "    self.head = None\n",
        "\n",
        "  #Function to print the linked list\n",
        "  def printdata(self):\n",
        "    temp = self.head\n",
        "    while(temp):\n",
        "      print(temp.data)\n",
        "      temp = temp.next\n",
        "\n",
        "# Code execution starts here\n",
        "if __name__=='__main__':\n",
        "\n",
        "  #Start with the empty list\n",
        "  llist = LinkedList()\n",
        "\n",
        "  llist.head = Node(1)\n",
        "  second = Node(2)\n",
        "  third = Node(3)\n",
        "\n",
        "  llist.head.next = second # Link first node with second\n",
        "  second.next = third # Link second node with the third node\n",
        "\n",
        "  llist.printdata()"
      ],
      "metadata": {
        "colab": {
          "base_uri": "https://localhost:8080/"
        },
        "id": "9X9n9XYSh3rH",
        "outputId": "f7c239b9-db92-4dd3-8836-4961f3c2788a"
      },
      "execution_count": 6,
      "outputs": [
        {
          "output_type": "stream",
          "name": "stdout",
          "text": [
            "1\n",
            "2\n",
            "3\n"
          ]
        }
      ]
    },
    {
      "cell_type": "markdown",
      "source": [
        "C++"
      ],
      "metadata": {
        "id": "fqKHIAG1qgKr"
      }
    },
    {
      "cell_type": "code",
      "source": [
        "#include <iostream>\n",
        "#include <string>\n",
        "using namespace std;\n",
        "int main();\n",
        "\n",
        "class Node {\n",
        "    public:\n",
        "    int value;\n",
        "    Node* next;\n",
        "\n",
        "};\n",
        "\n",
        "int main(){\n",
        "    Node* head = NULL;\n",
        "    Node* one = NULL;\n",
        "    Node* two = NULL;\n",
        "    Node* three = NULL;\n",
        "\n",
        "    one = new Node();\n",
        "    two = new Node();\n",
        "    three = new Node();\n",
        "\n",
        "    one->value = 1;\n",
        "    two->value = 2;\n",
        "    three->value = 3;\n",
        "\n",
        "    one->next = two;\n",
        "    two->next = three;\n",
        "    three->next = NULL;\n",
        "\n",
        "    head = one;\n",
        "\n",
        "    while (head != NULL){\n",
        "        cout << head->value << endl;\n",
        "        head = head->next;\n",
        "    }\n",
        "    return 0;\n",
        "\n",
        "}"
      ],
      "metadata": {
        "id": "iZsyVDYomxLw"
      },
      "execution_count": null,
      "outputs": []
    }
  ]
}